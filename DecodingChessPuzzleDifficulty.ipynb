{
  "nbformat": 4,
  "nbformat_minor": 0,
  "metadata": {
    "colab": {
      "provenance": [],
      "include_colab_link": true
    },
    "kernelspec": {
      "name": "python3",
      "display_name": "Python 3"
    },
    "language_info": {
      "name": "python"
    }
  },
  "cells": [
    {
      "cell_type": "markdown",
      "metadata": {
        "id": "view-in-github",
        "colab_type": "text"
      },
      "source": [
        "<a href=\"https://colab.research.google.com/github/rbajrac/Decoding-Chess-Puzzle-Difficulty/blob/main/DecodingChessPuzzleDifficulty.ipynb\" target=\"_parent\"><img src=\"https://colab.research.google.com/assets/colab-badge.svg\" alt=\"Open In Colab\"/></a>"
      ]
    },
    {
      "cell_type": "code",
      "source": [
        "pip install chess"
      ],
      "metadata": {
        "colab": {
          "base_uri": "https://localhost:8080/"
        },
        "id": "JFaLP2lKC97M",
        "outputId": "c2de25dd-b883-4148-b72c-e601e039dab6"
      },
      "execution_count": null,
      "outputs": [
        {
          "output_type": "stream",
          "name": "stdout",
          "text": [
            "Collecting chess\n",
            "  Downloading chess-1.10.0-py3-none-any.whl (154 kB)\n",
            "\u001b[?25l     \u001b[90m━━━━━━━━━━━━━━━━━━━━━━━━━━━━━━━━━━━━━━━━\u001b[0m \u001b[32m0.0/154.4 kB\u001b[0m \u001b[31m?\u001b[0m eta \u001b[36m-:--:--\u001b[0m\r\u001b[2K     \u001b[91m━━━━━━━━━━━━━━━━━━━━━━━━━━━━━━━━━━━━━━━\u001b[0m\u001b[91m╸\u001b[0m \u001b[32m153.6/154.4 kB\u001b[0m \u001b[31m5.4 MB/s\u001b[0m eta \u001b[36m0:00:01\u001b[0m\r\u001b[2K     \u001b[90m━━━━━━━━━━━━━━━━━━━━━━━━━━━━━━━━━━━━━━━━\u001b[0m \u001b[32m154.4/154.4 kB\u001b[0m \u001b[31m4.1 MB/s\u001b[0m eta \u001b[36m0:00:00\u001b[0m\n",
            "\u001b[?25hInstalling collected packages: chess\n",
            "Successfully installed chess-1.10.0\n"
          ]
        }
      ]
    },
    {
      "cell_type": "code",
      "source": [
        "import pickle\n",
        "# Load the best-performing model from the pickle file\n",
        "with open('/content/drive/MyDrive/model.pkl', 'rb') as f: #replace with correct filepath\n",
        "  model = pickle.load(f)\n"
      ],
      "metadata": {
        "id": "avMTSisCA9DX"
      },
      "execution_count": null,
      "outputs": []
    },
    {
      "cell_type": "code",
      "source": [
        "def count_captures(fen):\n",
        "  #returns number of captures\n",
        "\n",
        "    board = chess.Board(fen)\n",
        "    legal_moves = list(board.legal_moves)\n",
        "\n",
        "    checks_and_captures_count = 0\n",
        "\n",
        "    for move in legal_moves:\n",
        "        # Check if the move is a capture or results in a check\n",
        "        if board.is_capture(move):\n",
        "            checks_and_captures_count += 1\n",
        "\n",
        "    return checks_and_captures_count\n",
        "\n",
        "\n",
        "def calculate_material_ratio_adjusted(fen):\n",
        "\n",
        "    piece_values = {\n",
        "        'P': 1, 'N': 3, 'B': 3, 'R': 5, 'Q': 9,\n",
        "        'p': 1, 'n': 3, 'b': 3, 'r': 5, 'q': 9\n",
        "    }\n",
        "\n",
        "    total_material_side_to_move = 0\n",
        "    total_material_opponent = 0\n",
        "\n",
        "    # Get board setup and color to move from FEN string\n",
        "    parts = fen.split(' ')\n",
        "    board_setup = parts[0]\n",
        "    active_color = parts[1]\n",
        "\n",
        "    # Iterate over each character in the board setup\n",
        "    for char in board_setup:\n",
        "        if char in piece_values:\n",
        "            if char.isupper():\n",
        "                total_material_side_to_move += piece_values[char]\n",
        "            else:\n",
        "                total_material_opponent += piece_values[char]\n",
        "\n",
        "    # If it's black's turn to move, swap the totals\n",
        "    if active_color == 'b':\n",
        "        total_material_side_to_move, total_material_opponent = total_material_opponent, total_material_side_to_move\n",
        "\n",
        "    # Avoid division by zero\n",
        "    if total_material_opponent == 0:\n",
        "        return float('inf')\n",
        "    else:\n",
        "        return total_material_side_to_move / total_material_opponent\n",
        "\n",
        "# Example usage:\n",
        "fen_string = \"rnbqkbnr/pppppppp/8/8/8/8/PPPPPPPP/RNBQKBNR w KQkq - 0 1\"\n",
        "material_ratio = calculate_material_ratio_adjusted(fen_string)\n",
        "print(\"Material ratio:\", material_ratio)\n"
      ],
      "metadata": {
        "colab": {
          "base_uri": "https://localhost:8080/"
        },
        "id": "MK9B1Ast-77U",
        "outputId": "baed8f63-4ce5-4af7-b16b-b001f28e0859"
      },
      "execution_count": null,
      "outputs": [
        {
          "output_type": "stream",
          "name": "stdout",
          "text": [
            "Material ratio: 1.0\n"
          ]
        }
      ]
    },
    {
      "cell_type": "code",
      "execution_count": null,
      "metadata": {
        "id": "aV1J2l1OxbjX"
      },
      "outputs": [],
      "source": [
        "import numpy as np\n",
        "\n",
        "def fen_to_extended_grid(fen):\n",
        "    # piece encoding dictionary\n",
        "    piece_encoding = {\n",
        "        'p': -1, 'r': -2, 'n': -3, 'b': -4, 'q': -5, 'k': -6,\n",
        "        'P': 1, 'R': 2, 'N': 3, 'B': 4, 'Q': 5, 'K': 6\n",
        "    }\n",
        "\n",
        "    # initialize empty 9x8 grid\n",
        "    grid = np.zeros((9, 8), dtype=int)\n",
        "\n",
        "    # split FEN string into parts\n",
        "    parts = fen.split(' ')\n",
        "    rows = parts[0].split('/')\n",
        "\n",
        "    # Fill the grid with piece encodings\n",
        "    for i, row in enumerate(rows):\n",
        "        col = 0\n",
        "        for char in row:\n",
        "            if char.isdigit():\n",
        "                col += int(char)\n",
        "            else:\n",
        "                grid[i, col] = piece_encoding[char]\n",
        "                col += 1\n",
        "\n",
        "    # encode castling rights\n",
        "    castling = parts[2]\n",
        "    grid[8, 0] = 1 if 'K' in castling else 0\n",
        "    grid[8, 1] = 1 if 'Q' in castling else 0\n",
        "    grid[8, 2] = 1 if 'k' in castling else 0\n",
        "    grid[8, 3] = 1 if 'q' in castling else 0\n",
        "\n",
        "    # encode en-passant target square\n",
        "    if parts[3] != '-':\n",
        "        # Convert file letter to integer (a=1, b=2, ..., h=8)\n",
        "        en_passant_col = ord(parts[3][0]) - ord('a') + 1\n",
        "        grid[8, 4] = en_passant_col\n",
        "    else:\n",
        "        grid[8, 4] = 0\n",
        "\n",
        "    return grid\n",
        "\n",
        "# Example FEN string (starting position with potential en-passant)\n",
        "fen = \"rnbqkbnr/pppppppp/8/8/3P4/8/PPP1PPPP/RNBQKBNR b KQkq d3 0 1\"\n",
        "grid = fen_to_extended_grid(fen)\n"
      ]
    },
    {
      "cell_type": "code",
      "source": [
        "import pandas as pd\n",
        "import chess\n",
        "import numpy as np\n",
        "\n",
        "# Function to apply the moves and return a list of FEN strings\n",
        "def generate_fen_sequence(fen, moves):\n",
        "    board = chess.Board(fen)\n",
        "    fen_sequence = [fen]\n",
        "\n",
        "    for move_uci in moves:  # slightly different from original fx, since first move now doesn't have to be ignored\n",
        "        move = chess.Move.from_uci(move_uci)\n",
        "        board.push(move)\n",
        "        fen_sequence.append(board.fen())\n",
        "\n",
        "    return fen_sequence\n",
        "\n",
        "# Apply the function to each row in the sampled_data dataframe\n",
        "def apply_generate_fen_sequence(row):\n",
        "    fen = row['new_fen']  # Use the new_fen column for the initial position\n",
        "    moves = row['Moves'].split()  # Split the Moves column into a list of moves\n",
        "    fen_sequence = generate_fen_sequence(fen, moves)\n",
        "    return fen_sequence\n",
        "\n",
        "# Apply the function to each row and create a new column with the list of FEN strings\n",
        "\n",
        "\n",
        "# Display the dataframe with the new column\n",
        "\n"
      ],
      "metadata": {
        "id": "OoikTsP8x7sD"
      },
      "execution_count": null,
      "outputs": []
    },
    {
      "cell_type": "code",
      "source": [],
      "metadata": {
        "id": "FXPorK6WFiSc"
      },
      "execution_count": null,
      "outputs": []
    },
    {
      "cell_type": "code",
      "source": [],
      "metadata": {
        "id": "YZbf6ibx6lBY"
      },
      "execution_count": null,
      "outputs": []
    },
    {
      "cell_type": "code",
      "source": [],
      "metadata": {
        "id": "fbD97NzY-CT3"
      },
      "execution_count": null,
      "outputs": []
    },
    {
      "cell_type": "code",
      "source": [
        "import pandas as pd\n",
        "data = pd.read_csv(\"drive/MyDrive/lichess_db_puzzle.csv\")"
      ],
      "metadata": {
        "id": "oCwZ0fKmAz-u"
      },
      "execution_count": null,
      "outputs": []
    },
    {
      "cell_type": "code",
      "source": [
        "\n",
        "# inputs: initial board state (as a FEN string), list of moves played from initial position in uci\n",
        "\n",
        "# get number of captures, number of moves in solution, material ratio (numerical features)\n",
        "\n",
        "# generate fen_sequence\n",
        "\n",
        "\n",
        "# use model to predict rating"
      ],
      "metadata": {
        "id": "ihEJ31AK-GuO"
      },
      "execution_count": null,
      "outputs": []
    },
    {
      "cell_type": "code",
      "source": [
        "import numpy as np\n",
        "import pandas as pd\n",
        "from tensorflow.keras.preprocessing.sequence import pad_sequences\n",
        "\n",
        "def prepare_features(FEN, moves_list):\n",
        "    num_captures = count_captures(FEN)\n",
        "    material_ratio = calculate_material_ratio_adjusted(FEN)\n",
        "    num_moves = len(moves_list.split(' '))\n",
        "\n",
        "    fen_sequence = generate_fen_sequence(FEN, moves_list.split(' '))\n",
        "    encoded_grids = [fen_to_extended_grid(fen) for fen in fen_sequence]\n",
        "\n",
        "    # Flatten each grid into a single list per FEN to simplify padding\n",
        "    flattened_grids = [grid.flatten() for grid in encoded_grids]\n",
        "\n",
        "    # Create a DataFrame for a single sample\n",
        "    data_dict = {\n",
        "        'num_moves': [num_moves],\n",
        "        'material_ratio': [material_ratio],\n",
        "        'num_captures': [num_captures],\n",
        "        'encoded_grids': [flattened_grids]\n",
        "    }\n",
        "\n",
        "    return pd.DataFrame(data_dict)\n",
        "\n",
        "def predict_puzzle_difficulty(FEN, moves_list):\n",
        "    features = prepare_features(FEN, moves_list)\n",
        "\n",
        "    # Extract numerical features and sequence\n",
        "    X_numerical = features[['num_moves', 'material_ratio', 'num_captures']].values\n",
        "    X_sequence = np.array(features['encoded_grids'].iloc[0])  # Directly take the first element\n",
        "\n",
        "    # Pad and reshape sequence\n",
        "    X_sequence_padded = pad_sequences([X_sequence], maxlen=30, padding='post', truncating='post')\n",
        "    X_sequence_padded = X_sequence_padded.reshape((1, -1, 9, 8, 1))  # Reshape for model input\n",
        "\n",
        "    # Prediction\n",
        "    return model.predict([X_numerical, X_sequence_padded])\n",
        "\n",
        "# Example usage\n",
        "predict_puzzle_difficulty(FEN, moves)\n"
      ],
      "metadata": {
        "colab": {
          "base_uri": "https://localhost:8080/"
        },
        "id": "n5V3LW2uRFR4",
        "outputId": "f0f34678-c543-4a01-e81b-556af9014585"
      },
      "execution_count": null,
      "outputs": [
        {
          "output_type": "stream",
          "name": "stdout",
          "text": [
            "1/1 [==============================] - 1s 557ms/step\n"
          ]
        },
        {
          "output_type": "execute_result",
          "data": {
            "text/plain": [
              "array([[1467.4103]], dtype=float32)"
            ]
          },
          "metadata": {},
          "execution_count": 62
        }
      ]
    },
    {
      "cell_type": "code",
      "source": [
        "FEN = '8/5R2/1p2P3/p4r2/P6p/1P3Pk1/4K3/8 b - - 2 64'\n",
        "\n",
        "moves = 'f5e5 e2f1 e5e6'\n",
        "\n",
        "predict_puzzle_difficulty(FEN, moves)"
      ],
      "metadata": {
        "colab": {
          "base_uri": "https://localhost:8080/"
        },
        "id": "HrGRnydLCT-n",
        "outputId": "ae1077ea-a68d-43ed-afce-3d52466b7b85"
      },
      "execution_count": null,
      "outputs": [
        {
          "output_type": "stream",
          "name": "stdout",
          "text": [
            "1/1 [==============================] - 0s 180ms/step\n"
          ]
        },
        {
          "output_type": "execute_result",
          "data": {
            "text/plain": [
              "array([[1467.4103]], dtype=float32)"
            ]
          },
          "metadata": {},
          "execution_count": 64
        }
      ]
    },
    {
      "cell_type": "code",
      "source": [],
      "metadata": {
        "colab": {
          "base_uri": "https://localhost:8080/"
        },
        "id": "Xn_ZW78EDarW",
        "outputId": "d86f6ff7-c6ac-4d82-eab5-117e2b9d81e9"
      },
      "execution_count": null,
      "outputs": [
        {
          "output_type": "execute_result",
          "data": {
            "text/plain": [
              "['f5e5', 'e2f1', 'e5e6']"
            ]
          },
          "metadata": {},
          "execution_count": 18
        }
      ]
    },
    {
      "cell_type": "code",
      "source": [
        "moves = 'c3c1 g1g2 h4h3 g2g3 f6e5'\n",
        "FEN = '6k1/8/1p1R1b2/1Pp2N2/2P3pp/2r1P3/5P1P/6K1 b - - 0 1'\n",
        "\n",
        "predict_puzzle_difficulty(FEN, moves)"
      ],
      "metadata": {
        "colab": {
          "base_uri": "https://localhost:8080/"
        },
        "id": "Sy04BZuZ_V5N",
        "outputId": "37733f48-3db9-4f97-9e58-c6fa80548d1c"
      },
      "execution_count": null,
      "outputs": [
        {
          "output_type": "stream",
          "name": "stdout",
          "text": [
            "1/1 [==============================] - 0s 164ms/step\n"
          ]
        },
        {
          "output_type": "execute_result",
          "data": {
            "text/plain": [
              "array([[1745.6743]], dtype=float32)"
            ]
          },
          "metadata": {},
          "execution_count": 66
        }
      ]
    },
    {
      "cell_type": "code",
      "source": [
        "FEN = 'r2qkb1r/pp1nnppp/2p1p1b1/8/3PNB2/3B1N2/PPPQ1PPP/R3K2R w KQkq - 0 1'\n",
        "moves = 'e4d6'\n",
        "predict_puzzle_difficulty(FEN, moves)"
      ],
      "metadata": {
        "colab": {
          "base_uri": "https://localhost:8080/"
        },
        "id": "9qOgY-0FaWgO",
        "outputId": "c6158591-be79-4bae-9069-49dcea2ae280"
      },
      "execution_count": null,
      "outputs": [
        {
          "output_type": "stream",
          "name": "stdout",
          "text": [
            "1/1 [==============================] - 0s 127ms/step\n"
          ]
        },
        {
          "output_type": "execute_result",
          "data": {
            "text/plain": [
              "array([[1139.2784]], dtype=float32)"
            ]
          },
          "metadata": {},
          "execution_count": 67
        }
      ]
    },
    {
      "cell_type": "code",
      "source": [
        "FEN = 'r1b1k2r/ppq2pp1/2pbp3/8/1P1P2B1/P1N1B3/2P2PP1/R2Q1RK1 b kq - 0 1'\n",
        "moves = 'd6h2 g1h1 h2g1 h1g1 c7h2'\n",
        "predict_puzzle_difficulty(FEN, moves)"
      ],
      "metadata": {
        "colab": {
          "base_uri": "https://localhost:8080/"
        },
        "id": "-tciQeNWbyEC",
        "outputId": "5afe792b-9ebb-4d3c-86a2-a7206b9ad1f5"
      },
      "execution_count": null,
      "outputs": [
        {
          "output_type": "stream",
          "name": "stdout",
          "text": [
            "1/1 [==============================] - 0s 213ms/step\n"
          ]
        },
        {
          "output_type": "execute_result",
          "data": {
            "text/plain": [
              "array([[1743.5875]], dtype=float32)"
            ]
          },
          "metadata": {},
          "execution_count": 68
        }
      ]
    },
    {
      "cell_type": "code",
      "source": [
        "FEN = '8/1p6/7p/1P6/6Pk/3K3P/8/8 b - - 0 1'\n",
        "moves = 'h4h3 '"
      ],
      "metadata": {
        "id": "9JeVt8jmdkj4"
      },
      "execution_count": null,
      "outputs": []
    }
  ]
}